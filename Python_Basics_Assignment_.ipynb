{
  "nbformat": 4,
  "nbformat_minor": 0,
  "metadata": {
    "colab": {
      "provenance": []
    },
    "kernelspec": {
      "name": "python3",
      "display_name": "Python 3"
    },
    "language_info": {
      "name": "python"
    }
  },
  "cells": [
    {
      "cell_type": "markdown",
      "source": [
        "# **Python Basics Assignment Theory**\n"
      ],
      "metadata": {
        "id": "mMHaLPEGHZYA"
      }
    },
    {
      "cell_type": "markdown",
      "source": [
        "1. What is Python, and why is it popular?\n",
        "  - Python is a programming language a programming language is a formal language for creating instruction for a computer to follow.\n",
        "  That is easy to understand and write similar to English, making it beginner-friendly.\n",
        "  It is used in various fields like web development, data analysis, AI, cybersecurity, and game development. It's have lots of library.\n",
        "\n",
        "2. What is an interpreter in Python?\n",
        "  - The Python interpreter acts as a bridge between the Python code you write and the computer's hardware. It takes your code, which is written in a human-readable format, and converts it into a form that the computer can understand and execute.\n",
        "\n",
        "3. What are pre-defined keywords in Python?\n",
        "  - Here are pre-defined keywords in Python:-\n",
        "\n",
        "     False, class,  from,  or,  None,  continue,  global,  pass,  True,  def,  if,  raise,  and,  del,  import,  return,  as,  elif,  in,  try,  assert,  else,  is,  while,  async,  except,  lambda,  with,  await,  finally,  nonlocal,  yield,  break,  for,  not.\n",
        "\n",
        "4. Can keywords be used as variable names?\n",
        "  - No keywords cannot be used as variable names, they have predefined meanings in the language, using them as variable names would cause syntax errors.\n",
        "\n",
        "    #Ex:-\n",
        "      \n",
        "      if = 5 # Syntaxerror: invalid syntax\n",
        "\n",
        "      def= \" hello world \"  #syntaxerror: invalid syntax\n",
        "\n",
        "5. What is mutability in Python?\n",
        "  - objects/container whose state or value can be changed after they are created are called as mutable objects or container.\n",
        "\n",
        "6. Why are lists mutable, but tuples are immutable?\n",
        "  -  Lists are stored as dynamic arrays in memory,\n",
        "They allow in place modification, meaning you can add, remove, or change elements without creating a new list.\n",
        "  - Tuples are stored in fixed memory locations for efficiency,\n",
        "Their immutability helps with performance optimization and hashing (e.g. dictionary keys).\n",
        "\n",
        "7. What is the difference between “==” and “is” operators in Python?\n",
        "  - ' == ' Operator\n",
        "\n",
        "    Checks if two objects have the same value.\n",
        "\n",
        "    Even if the objects are stored in different memory locations, == will return True if their contents are the same.\n",
        "  - ' is ' Operator\n",
        "\n",
        "    Checks if two variables refer to the same object in memory.\n",
        "\n",
        "    Returns True only if both variables point to the exact same memory location.\n",
        "  - The ' is ' operator returns ' True ' if the variables on either side of the operator point to the same object, and ' False ' otherwise. This is different from the ' == ' operator, which compares the values of the objects.\n",
        "\n",
        "8. What are logical operators in Python?\n",
        "  - Logical operators in Python are used to combine conditional statements and return True or False based on logical conditions.\n",
        "  \n",
        "    * ' and '\tReturns 'True' if both conditions are True\n",
        "\n",
        "    * ' or '\tReturns 'True' if at least one condition is True\n",
        "\n",
        "    * ' not ' Reverses the result (True → False, False → True)\n",
        "\n",
        "9. What is type casting in Python?\n",
        "  - Type casting, also referred to as type conversion, is the process of changing one data type to another in Python.\n",
        "  - Python provides built-in functions for type casting, such as int(), float(), str(), list(), tuple(), dict(), etc.\n",
        "  - Type casting is often necessary for performing arithmetic operations, data manipulation, and input/output operations in Python programs.\n",
        "\n",
        "10. What is the difference between implicit and explicit type casting?\n",
        "  - Implicit Type Casting :-  \n",
        "\n",
        "      * It is automatic conversion by Python.\n",
        "      * In this No data loss take place during data conversion.\n",
        "      * Implicit conversion do not require any special syntax.\n",
        "\n",
        "  - Explicit type casting :-\n",
        "     \n",
        "       * It is manual conversion by the programmer.\n",
        "       * In this, Data loss may or may not be take place. Hence there is risk of information loss.\n",
        "       * Explicit type casting require cast operator to perform conversion.\n",
        "\n",
        "11. What is the purpose of conditional statements in Python?\n",
        "  - Conditionals in Python are used to execute code based on the evaluation of one or more conditions.\n",
        "  - Python supports conditional statements such as if, elif (else if), and else to control the flow of execution.\n",
        "  - Conditionals can be nested to handle multiple conditions and control different branches of execution based on the outcome of logical expressions.\n",
        "\n",
        "12.  How does the elif statement work?\n",
        "  - The elif statement is used to check multiple conditions in an if statement. It allows Python to execute different blocks of code based on which condition is met first.\n",
        "\n"
      ],
      "metadata": {
        "id": "Ph5Val9DHbPp"
      }
    },
    {
      "cell_type": "code",
      "source": [
        "# Example\n",
        "\n",
        "temperature = 30\n",
        "\n",
        "if temperature > 35:\n",
        "    print(\"It's very hot! \")\n",
        "elif temperature > 25:\n",
        "    print(\"It's warm. \")\n",
        "\n",
        "elif temperature > 15:\n",
        "    print(\"It's cool. \")\n",
        "else:\n",
        "    print(\"It's cold! \")\n",
        "\n",
        "# The first condition (temperature > 35) is False, so Python moves to the next elif.\n",
        "# The second condition (temperature > 25) is True, so it prints \"It's warm.\", and the remaining elif/else blocks are skipped.\n"
      ],
      "metadata": {
        "colab": {
          "base_uri": "https://localhost:8080/"
        },
        "id": "umU1xn5HqRg1",
        "outputId": "921c064b-9363-45a3-8a48-97514d61b907"
      },
      "execution_count": null,
      "outputs": [
        {
          "output_type": "stream",
          "name": "stdout",
          "text": [
            "It's warm. \n"
          ]
        }
      ]
    },
    {
      "cell_type": "markdown",
      "source": [
        "13. What is the difference between for and while loops?\n",
        "  - In Python, both for and while loops are used for iteration, but they have key differences in how they operate:\n",
        "\n",
        "     *  'for' Loop:-\n",
        "\n",
        "     Used when the number of iterations is known or when iterating over a\n",
        "     sequence.\n",
        "     \n",
        "     It automatically iterates through the sequence without needing a manual increment."
      ],
      "metadata": {
        "id": "4R2lCa-9tkLS"
      }
    },
    {
      "cell_type": "code",
      "source": [
        "# example\n",
        "for i in range(5):  # Loops 5 times (0 to 4)\n",
        "    print(i)"
      ],
      "metadata": {
        "collapsed": true,
        "id": "CHhaAAR6q5-1",
        "colab": {
          "base_uri": "https://localhost:8080/"
        },
        "outputId": "8a0f60e5-1019-4f19-f108-fc419417e928"
      },
      "execution_count": 9,
      "outputs": [
        {
          "output_type": "stream",
          "name": "stdout",
          "text": [
            "0\n",
            "1\n",
            "2\n",
            "3\n",
            "4\n"
          ]
        }
      ]
    },
    {
      "cell_type": "markdown",
      "source": [
        "  *  'while' Loop\n",
        "\n",
        "\n",
        "  Used when the number of iterations is unknown and depends on a condition being met.\n",
        "\n",
        "   It requires a condition that must evaluate to True for the loop to continue.\n",
        "\n",
        "   If needed must be manually updated inside the loop"
      ],
      "metadata": {
        "id": "_rF1dhbYrYnI"
      }
    },
    {
      "cell_type": "code",
      "source": [
        "count = 0\n",
        "while count < 5:  # Runs until count reaches 5\n",
        "    print(count)\n",
        "    count= count+1  # Manual increment\n"
      ],
      "metadata": {
        "colab": {
          "base_uri": "https://localhost:8080/"
        },
        "id": "Y4ewpTZ2rDHr",
        "outputId": "4a50baef-46f8-4ac9-b7b3-c3e601d3f0d9"
      },
      "execution_count": null,
      "outputs": [
        {
          "output_type": "stream",
          "name": "stdout",
          "text": [
            "0\n",
            "1\n",
            "2\n",
            "3\n",
            "4\n"
          ]
        }
      ]
    },
    {
      "cell_type": "markdown",
      "source": [
        "14. Describe a scenario where a while loop is more suitable than a for loop?\n",
        "  - A while loop is more suitable than a for loop when the number of iterations is unknown beforehand and depends on a condition being met dynamically.\n",
        "\n",
        "  - Scenario: User Input Validation\n",
        "Imagine you're building a program that asks a user to enter a valid password. Since you don't know how many times the user will enter an incorrect password, a while loop is ideal.\n",
        "  -Why Use while Instead of for?\n",
        "You don’t know how many attempts the user will need.\n",
        "A for loop would require a predefined number of iterations, which doesn't fit this scenario.\n",
        "The loop should continue until the correct password is entered, making a while loop the right choice."
      ],
      "metadata": {
        "id": "eQGsyEMks1st"
      }
    },
    {
      "cell_type": "markdown",
      "source": [
        "# Python Basics Assignment Practical"
      ],
      "metadata": {
        "id": "kv2rib_e_lgg"
      }
    },
    {
      "cell_type": "code",
      "source": [
        "# 1. Write a Python program to print \"Hello, World!\"\n",
        "\n",
        "print(\"Hello, World!\")"
      ],
      "metadata": {
        "colab": {
          "base_uri": "https://localhost:8080/"
        },
        "id": "wi82Y8b8_1Ti",
        "outputId": "f8ed14f2-1f93-43ac-e92b-3908fdb32f0f"
      },
      "execution_count": null,
      "outputs": [
        {
          "output_type": "stream",
          "name": "stdout",
          "text": [
            "Hello, World!\n"
          ]
        }
      ]
    },
    {
      "cell_type": "code",
      "source": [
        "# 2. Write a Python program that displays your name and age?\n",
        "name= \"saurav kumar\"\n",
        "age= 25\n",
        "print(\"My Name is\",name)\n",
        "print(\"I am \", age, \"Yeal old. \")"
      ],
      "metadata": {
        "colab": {
          "base_uri": "https://localhost:8080/"
        },
        "id": "ehX7db9UAXzD",
        "outputId": "098946df-2f26-404d-85e9-774f02e4fea2"
      },
      "execution_count": null,
      "outputs": [
        {
          "output_type": "stream",
          "name": "stdout",
          "text": [
            "My Name is saurav kumar\n",
            "I am  25 Yeal old. \n"
          ]
        }
      ]
    },
    {
      "cell_type": "code",
      "source": [
        "# 3. Write code to print all the pre-defined keywords in Python using the keyword library?\n",
        "help(\"keywords\")"
      ],
      "metadata": {
        "colab": {
          "base_uri": "https://localhost:8080/"
        },
        "id": "vFiUHI8oCpek",
        "outputId": "d8be9223-400b-4f3a-d737-a1509d86c41f"
      },
      "execution_count": null,
      "outputs": [
        {
          "output_type": "stream",
          "name": "stdout",
          "text": [
            "\n",
            "Here is a list of the Python keywords.  Enter any keyword to get more help.\n",
            "\n",
            "False               class               from                or\n",
            "None                continue            global              pass\n",
            "True                def                 if                  raise\n",
            "and                 del                 import              return\n",
            "as                  elif                in                  try\n",
            "assert              else                is                  while\n",
            "async               except              lambda              with\n",
            "await               finally             nonlocal            yield\n",
            "break               for                 not                 \n",
            "\n"
          ]
        }
      ]
    },
    {
      "cell_type": "code",
      "source": [
        "# 4. Write a program that checks if a given word is a Python keyword?\n",
        "\n",
        "import keyword\n",
        "\n",
        "word = input(\"Enter a word: \")\n",
        "\n",
        "if keyword.iskeyword(word):\n",
        "    print(f\"{word} is a Python keyword.\")\n",
        "else:\n",
        "    print(f\"{word} is NOT a Python keyword.\")\n"
      ],
      "metadata": {
        "colab": {
          "base_uri": "https://localhost:8080/"
        },
        "id": "YPAemPO7DbPf",
        "outputId": "09601de5-fc57-4652-f8fa-dd824e390632"
      },
      "execution_count": 2,
      "outputs": [
        {
          "output_type": "stream",
          "name": "stdout",
          "text": [
            "Enter a word: if\n",
            "if is a Python keyword.\n"
          ]
        }
      ]
    },
    {
      "cell_type": "code",
      "source": [
        "# 5. Create a list and tuple in Python, and demonstrate how attempting to change an element works differently for each?\n",
        "\n",
        "# Creating a list\n",
        "my_list = [1, 2, 3]\n",
        "print(\"My list: \", my_list)\n",
        "\n",
        "# Modification in the list\n",
        "my_list[1] = 20\n",
        "print(\"Modified list: \", my_list)\n",
        "\n",
        "# Creating a tuple\n",
        "my_tuple = (1, 2, 3)\n",
        "print(\"\\n My tuple:\", my_tuple)\n",
        "\n",
        "# Try to modify tuple (this will raise an error)\n",
        "try:\n",
        "    my_tuple[1] = 20\n",
        "except TypeError as e:\n",
        "    print(\"Error:\", e)\n"
      ],
      "metadata": {
        "id": "qkbSZJAUdv3r",
        "colab": {
          "base_uri": "https://localhost:8080/"
        },
        "outputId": "14c0e8d5-985c-48bd-a5d1-bd6a0f24cd55"
      },
      "execution_count": 1,
      "outputs": [
        {
          "output_type": "stream",
          "name": "stdout",
          "text": [
            "My list:  [1, 2, 3]\n",
            "Modified list:  [1, 20, 3]\n",
            "\n",
            " My tuple: (1, 2, 3)\n",
            "Error: 'tuple' object does not support item assignment\n"
          ]
        }
      ]
    },
    {
      "cell_type": "code",
      "source": [
        "# 6. Write a function to demonstrate the behavior of mutable and immutable arguments?\n"
      ],
      "metadata": {
        "id": "HQ4vMzseg_jh"
      },
      "execution_count": null,
      "outputs": []
    },
    {
      "cell_type": "code",
      "source": [
        "# 7. Write a function to demonstrate the behavior of mutable and immutable arguments?"
      ],
      "metadata": {
        "id": "qheLZq2Hh4np"
      },
      "execution_count": null,
      "outputs": []
    },
    {
      "cell_type": "code",
      "source": [
        "# 8. Write a program to demonstrate the use of logical operators?\n",
        "# Taking user input\n",
        "a = int(input(\"Enter first number: \"))\n",
        "b = int(input(\"Enter second number: \"))\n",
        "\n",
        "# Logical AND\n",
        "print(f\"{a} > 0 and {b} > 0: {a > 0 and b > 0}\")\n",
        "\n",
        "# Logical OR\n",
        "print(f\"{a} > 0 or {b} > 0: {a > 0 or b > 0}\")\n",
        "\n",
        "# Logical NOT\n",
        "print(f\"not ({a} > 0): {not (a > 0)}\")\n",
        "print(f\"not ({b} > 0): {not (b > 0)}\")"
      ],
      "metadata": {
        "id": "mwib0fVliBVd",
        "colab": {
          "base_uri": "https://localhost:8080/"
        },
        "outputId": "1dae8704-14cc-4f42-cd31-9f757d8c119f"
      },
      "execution_count": 6,
      "outputs": [
        {
          "output_type": "stream",
          "name": "stdout",
          "text": [
            "Enter first number: 8\n",
            "Enter second number: 5\n",
            "8 > 0 and 5 > 0: True\n",
            "8 > 0 or 5 > 0: True\n",
            "not (8 > 0): False\n",
            "not (5 > 0): False\n"
          ]
        }
      ]
    },
    {
      "cell_type": "code",
      "source": [
        "# 9. Write a Python program to convert user input from string to integer, float, and boolean types?\n",
        "\n",
        "# Get user input as a string\n",
        "user_input = input(\"Enter a value: \")\n",
        "\n",
        "# Convert to integer\n",
        "try:\n",
        "    int_value = int(user_input)\n",
        "    print(\"Integer:\", int_value)\n",
        "except ValueError:\n",
        "    print(\"Cannot convert to integer.\")\n",
        "\n",
        "# Convert to float\n",
        "try:\n",
        "    float_value = float(user_input)\n",
        "    print(\"Float:\", float_value)\n",
        "except ValueError:\n",
        "    print(\"Cannot convert to float.\")\n",
        "\n",
        "# Convert to boolean\n",
        "bool_value = bool(user_input)\n",
        "print(\"Boolean:\", bool_value)\n"
      ],
      "metadata": {
        "id": "_2wNX5fKiI1q",
        "colab": {
          "base_uri": "https://localhost:8080/"
        },
        "outputId": "09ed36ed-bcdd-4e9c-c1f8-744b406c1539"
      },
      "execution_count": null,
      "outputs": [
        {
          "output_type": "stream",
          "name": "stdout",
          "text": [
            "Enter a value: 5\n",
            "Integer: 5\n",
            "Float: 5.0\n",
            "Boolean: True\n"
          ]
        }
      ]
    },
    {
      "cell_type": "code",
      "source": [
        "# 10. Write code to demonstrate type casting with list elements?\n",
        "\n",
        "data = [\"10\", \"20\", \"30\", \"40\", \"50\"]\n",
        "\n",
        "# Convert string to integers\n",
        "int_list = [int(i) for i in data]\n",
        "print(\"List converting to integers:\", int_list)\n",
        "\n",
        "# Convert integers to floats\n",
        "float_list = [float(i) for i in int_list]\n",
        "print(\"List converting to floats:\", float_list)\n",
        "\n",
        "# Convert integers to strings\n",
        "str_list = [str(i) for i in int_list]\n",
        "print(\"List converting to strings:\", str_list)\n",
        "\n",
        "# Convert integers to Boolean\n",
        "bool_list = [bool(i) for i in int_list]\n",
        "print(\"List converting to booleans:\", bool_list)\n"
      ],
      "metadata": {
        "id": "9S1mHEiYiQ6p",
        "colab": {
          "base_uri": "https://localhost:8080/"
        },
        "outputId": "2d170db6-6cfe-44e6-e039-89b4369e36fd"
      },
      "execution_count": 3,
      "outputs": [
        {
          "output_type": "stream",
          "name": "stdout",
          "text": [
            "List converting to integers: [10, 20, 30, 40, 50]\n",
            "List converting to floats: [10.0, 20.0, 30.0, 40.0, 50.0]\n",
            "List converting to strings: ['10', '20', '30', '40', '50']\n",
            "List converting to booleans: [True, True, True, True, True]\n"
          ]
        }
      ]
    },
    {
      "cell_type": "code",
      "source": [
        "# 11.  Write a program that checks if a number is positive, negative, or zero?\n",
        "\n",
        "num=float(input(\"Please Enter a Number: \"))\n",
        "\n",
        "if num > 0:\n",
        "  print(\"The Number is Positive\")\n",
        "elif num < 0:\n",
        "    print(\"The Number is Nagative\")\n",
        "else:\n",
        "  print(\"The Number is Zero\")"
      ],
      "metadata": {
        "id": "ZC4xc3ZvibF-",
        "colab": {
          "base_uri": "https://localhost:8080/"
        },
        "outputId": "1599c5a3-daaf-4a67-a9a8-242e6d7598f0"
      },
      "execution_count": null,
      "outputs": [
        {
          "output_type": "stream",
          "name": "stdout",
          "text": [
            "Please Enter a Number: 1\n",
            "The Number is Positive\n"
          ]
        }
      ]
    },
    {
      "cell_type": "code",
      "source": [
        "# 12. Write a for loop to print numbers from 1 to 10?\n",
        "\n",
        "for num in range(1, 11):\n",
        "    print(num)"
      ],
      "metadata": {
        "id": "tdQIlDPxiiTn",
        "colab": {
          "base_uri": "https://localhost:8080/"
        },
        "outputId": "46fc11d5-aad4-4dff-b65a-02214a75ae2c"
      },
      "execution_count": null,
      "outputs": [
        {
          "output_type": "stream",
          "name": "stdout",
          "text": [
            "1\n",
            "2\n",
            "3\n",
            "4\n",
            "5\n",
            "6\n",
            "7\n",
            "8\n",
            "9\n",
            "10\n"
          ]
        }
      ]
    },
    {
      "cell_type": "code",
      "source": [
        "# 13. Write a Python program to find the sum of all even numbers between 1 and 50?\n",
        "\n",
        "sum_even = 0\n",
        "\n",
        "for num in range(1, 51):\n",
        "    if num % 2 == 0:\n",
        "        sum_even += num\n",
        "print(\"Sum of even numbers between 1 and 50 is:\", sum_even)"
      ],
      "metadata": {
        "colab": {
          "base_uri": "https://localhost:8080/"
        },
        "id": "7i11O6dVirxN",
        "outputId": "c6bcb24a-8153-4398-af0d-f387e1c190f6"
      },
      "execution_count": null,
      "outputs": [
        {
          "output_type": "stream",
          "name": "stdout",
          "text": [
            "Sum of even numbers between 1 and 50 is: 650\n"
          ]
        }
      ]
    },
    {
      "cell_type": "code",
      "source": [
        "#14. Write a program to reverse a string using a while loop?\n",
        "\n",
        "def reverse_string(s):\n",
        "    rev = \"\"\n",
        "    index = len(s) - 1\n",
        "\n",
        "    while index >= 0:\n",
        "        rev += s[index]\n",
        "        index -= 1\n",
        "\n",
        "    return rev\n",
        "\n",
        "string = input(\"Enter a string: \")\n",
        "print(\"Reversed string:\", reverse_string(string))"
      ],
      "metadata": {
        "id": "93PEEzi8i0n9",
        "colab": {
          "base_uri": "https://localhost:8080/"
        },
        "outputId": "827de773-042f-43e4-ba54-8d9f22f2aa93"
      },
      "execution_count": 4,
      "outputs": [
        {
          "output_type": "stream",
          "name": "stdout",
          "text": [
            "Enter a string: saurav\n",
            "Reversed string: varuas\n"
          ]
        }
      ]
    },
    {
      "cell_type": "code",
      "source": [
        "# 15. Write a Python program to calculate the factorial of a number provided by the user using a while loop?\n",
        "\n",
        "num = int(input(\"Enter a number: \"))\n",
        "\n",
        "factorial = 1\n",
        "\n",
        "if num < 0:\n",
        "    print(\"Factorial is not defined for negative numbers.\")\n",
        "elif num == 0:\n",
        "    print(\"Factorial of 0 is 1.\")\n",
        "else:\n",
        "    # Calculate factorial using a while loop\n",
        "    i = num\n",
        "    while i > 1:\n",
        "        factorial *= i\n",
        "        i -= 1\n",
        "\n",
        "    print(f\"Factorial of {num} is {factorial}\")"
      ],
      "metadata": {
        "id": "49NfkpG6i_Ok",
        "colab": {
          "base_uri": "https://localhost:8080/"
        },
        "outputId": "93507673-de12-482b-ea11-28e592f2da32"
      },
      "execution_count": 7,
      "outputs": [
        {
          "output_type": "stream",
          "name": "stdout",
          "text": [
            "Enter a number: 5\n",
            "Factorial of 5 is 120\n"
          ]
        }
      ]
    }
  ]
}